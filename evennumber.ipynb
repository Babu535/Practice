{
  "cells": [
    {
      "cell_type": "markdown",
      "metadata": {
        "id": "view-in-github",
        "colab_type": "text"
      },
      "source": [
        "<a href=\"https://colab.research.google.com/github/Babu535/Practice/blob/main/evennumber.ipynb\" target=\"_parent\"><img src=\"https://colab.research.google.com/assets/colab-badge.svg\" alt=\"Open In Colab\"/></a>"
      ]
    },
    {
      "cell_type": "markdown",
      "metadata": {
        "id": "dd-DvBlnWwFi"
      },
      "source": [
        "1.Even number:\n",
        "check the given number is even or odd and print ,\n",
        "total number of odd, \n",
        "total number of even\n",
        "even numbers should be sum \n",
        "odd number should be sum\n",
        "skip float values\n",
        "calculate -ve even, -ve odd\n",
        "\n",
        "input can also be a list , \n",
        "output should be in dictionary\n",
        "\n",
        "\n",
        "\n"
      ]
    },
    {
      "cell_type": "code",
      "execution_count": 24,
      "metadata": {
        "colab": {
          "base_uri": "https://localhost:8080/"
        },
        "id": "cxMETDT4GZXT",
        "outputId": "7a9ad4f4-d02d-4432-b37b-672708c79db2"
      },
      "outputs": [
        {
          "output_type": "stream",
          "name": "stdout",
          "text": [
            "How many number of items you need in list6\n",
            "1\n",
            "2\n",
            "3\n",
            "4\n",
            "2.0\n",
            "enter valid integer\n",
            "-2\n",
            "<class 'list'>\n",
            "[1, 2, 3, 4, -2]\n",
            "odd numbers count 2\n",
            "list of odd numbers [1, 3]\n",
            "sum of odd numbers 4\n",
            "even numbers count 3\n",
            "list of even numbers [2, 4, -2]\n",
            "sum of even numbers 4\n",
            "{'odd count': 2, 'odd list': [1, 3], 'odd sum': 4, 'even count': 3, 'even list': [2, 4, -2], 'even sum': 4}\n"
          ]
        },
        {
          "output_type": "execute_result",
          "data": {
            "text/plain": [
              "dict"
            ]
          },
          "metadata": {},
          "execution_count": 24
        }
      ],
      "source": [
        "list1 = []\n",
        "n = int(input(\"How many number of items you need in list\"))\n",
        "j =0\n",
        "\n",
        "for i in range(0,n):\n",
        "  try:\n",
        "    j = int(input())\n",
        "    if type(j) == int:\n",
        "      list1.append(j)\n",
        "  except:\n",
        "    print(\"enter valid integer\")\n",
        "    \n",
        "\n",
        "print(type(list1))\n",
        "print(list1)\n",
        "odd = []\n",
        "even = []\n",
        "count_even = 0 \n",
        "count_odd = 0\n",
        "sum_even = 0\n",
        "sum_odd = 0\n",
        "for i in list1:\n",
        "  #print(i)\n",
        "  if i%2 == 0:\n",
        "    even.append(i)\n",
        "    count_even = count_even+1\n",
        "    sum_even = sum_even+i\n",
        "    \n",
        "  else:\n",
        "    odd.append(i)\n",
        "    count_odd = count_odd+1\n",
        "    sum_odd = sum_odd+i\n",
        "    \n",
        "print(\"odd numbers count\" , count_odd)\n",
        "print(\"list of odd numbers\",odd)\n",
        "print(\"sum of odd numbers\",sum_odd)\n",
        "\n",
        "print(\"even numbers count\" , count_even)\n",
        "print(\"list of even numbers\",even)\n",
        "print(\"sum of even numbers\",sum_even)\n",
        "\n",
        "dict1 = {\"odd count\":count_odd , \"odd list\":odd,\"odd sum\":sum_odd\n",
        "         ,\"even count\":count_even , \"even list\":even,\"even sum\":sum_even}\n",
        "print(dict1)\n",
        "type(dict1)"
      ]
    },
    {
      "cell_type": "code",
      "execution_count": null,
      "metadata": {
        "id": "MLG1C674qjDq"
      },
      "outputs": [],
      "source": [
        ""
      ]
    }
  ],
  "metadata": {
    "colab": {
      "name": "evennumber.ipynb",
      "provenance": [],
      "collapsed_sections": [],
      "authorship_tag": "ABX9TyOJDyyD/x64ujVs9/QSYc4O",
      "include_colab_link": true
    },
    "kernelspec": {
      "display_name": "Python 3",
      "name": "python3"
    },
    "language_info": {
      "name": "python"
    }
  },
  "nbformat": 4,
  "nbformat_minor": 0
}