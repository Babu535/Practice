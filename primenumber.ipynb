{
  "nbformat": 4,
  "nbformat_minor": 0,
  "metadata": {
    "colab": {
      "name": "primenumber.ipynb",
      "provenance": [],
      "collapsed_sections": [],
      "authorship_tag": "ABX9TyP/zT7x7JIqygeCuwau5+Mi",
      "include_colab_link": true
    },
    "kernelspec": {
      "name": "python3",
      "display_name": "Python 3"
    },
    "language_info": {
      "name": "python"
    }
  },
  "cells": [
    {
      "cell_type": "markdown",
      "metadata": {
        "id": "view-in-github",
        "colab_type": "text"
      },
      "source": [
        "<a href=\"https://colab.research.google.com/github/Babu535/Practice/blob/main/primenumber.ipynb\" target=\"_parent\"><img src=\"https://colab.research.google.com/assets/colab-badge.svg\" alt=\"Open In Colab\"/></a>"
      ]
    },
    {
      "cell_type": "markdown",
      "source": [
        ""
      ],
      "metadata": {
        "id": "EmvwZ0XiCM-s"
      }
    },
    {
      "cell_type": "code",
      "source": [
        "# 1.take input from user\n",
        "# 2.check if it is divisible by any of the numbers\n",
        "# 3.if it is divisible then it is not a prime number"
      ],
      "metadata": {
        "id": "H8iv5Pg1CP46"
      },
      "execution_count": null,
      "outputs": []
    },
    {
      "cell_type": "code",
      "source": [
        "try:\n",
        "  num = int(input(\"enter number\"))\n",
        " # if num != int:\n",
        "  flag = False\n",
        "  if num > 1:\n",
        "    for i in range(2,num):\n",
        "      if num%i == 0:\n",
        "        #print(i)\n",
        "        flag = True\n",
        "        break\n",
        "  elif num == 1:\n",
        "    flag = True    \n",
        "  \n",
        "  if flag:\n",
        "    print(\"not a prime number\")\n",
        "  else:\n",
        "    print(\"prime number\")\n",
        "\n",
        "except:\n",
        "  print(\"enter valid integer\")"
      ],
      "metadata": {
        "colab": {
          "base_uri": "https://localhost:8080/"
        },
        "id": "KSpBWn7o6SEo",
        "outputId": "cc9c1e8d-7e00-48e5-88c6-233650bb245d"
      },
      "execution_count": 37,
      "outputs": [
        {
          "output_type": "stream",
          "name": "stdout",
          "text": [
            "enter number11\n",
            "prime number\n"
          ]
        }
      ]
    }
  ]
}